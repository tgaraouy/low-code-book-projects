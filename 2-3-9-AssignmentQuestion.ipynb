{
  "cells": [
    {
      "cell_type": "markdown",
      "metadata": {
        "id": "iiVBUpuHXEtw"
      },
      "source": [
        "# Create a CNN to classify Cifar-10\n",
        "\n",
        "Learn about Cifar-10 here: https://www.cs.toronto.edu/~kriz/cifar.html\n",
        "\n",
        "In class you saw how to build a Convolutional Neural Network that classified Fashion MNIST. Take what you learned to build a CNN that recognizes the 10 classes of CIFAR. It will be a similar network, but there are some key differences you'll need to take into account.\n",
        "\n",
        "First, while MNIST were 28x28 monochome images (1 color channel), CIFAR are 32x32 color images (3 color channels).\n",
        "\n",
        "Second, MNIST images are simple, containing just the object, centered in the image, with no background. CIFAR ones can have the object with a background -- for example airplanes might have a cloudy sky behind them! As such you should expect your accuracy to be a bit lower.\n",
        "\n",
        "We start by setting up the problem for you."
      ]
    },
    {
      "cell_type": "code",
      "execution_count": 1,
      "metadata": {
        "id": "6OQ_tVTaU3oo",
        "outputId": "acb42d38-122e-4501-9217-21093b312982",
        "colab": {
          "base_uri": "https://localhost:8080/"
        }
      },
      "outputs": [
        {
          "output_type": "stream",
          "name": "stdout",
          "text": [
            "Downloading data from https://www.cs.toronto.edu/~kriz/cifar-10-python.tar.gz\n",
            "170498071/170498071 [==============================] - 12s 0us/step\n"
          ]
        }
      ],
      "source": [
        "import tensorflow as tf\n",
        "\n",
        "from tensorflow.keras import datasets, layers, models\n",
        "import matplotlib.pyplot as plt\n",
        "\n",
        "(train_images, train_labels), (test_images, test_labels) = datasets.cifar10.load_data()\n",
        "\n",
        "# Normalize pixel values to be between 0 and 1\n",
        "train_images = train_images / 255.0\n",
        "test_images = test_images / 255.0"
      ]
    },
    {
      "cell_type": "markdown",
      "metadata": {
        "id": "GRY19f1vzpb2"
      },
      "source": [
        "We then definte some of the model for you but leave most of it for you to fill in!\n",
        "\n",
        "*A hint: your model may want to learn some high level features and then classify them.*"
      ]
    },
    {
      "cell_type": "code",
      "execution_count": 3,
      "metadata": {
        "id": "law2hNzdVA16"
      },
      "outputs": [],
      "source": [
        "FIRST_LAYER = layers.Conv2D(32, (3,3), activation='relu', input_shape=(32, 32, 3))\n",
        "HIDDEN_LAYER_TYPE_1 = layers.Conv2D(64, (3,3), activation='relu')\n",
        "HIDDEN_LAYER_TYPE_2 = layers.MaxPooling2D((2,2))\n",
        "HIDDEN_LAYER_TYPE_3 = layers.Conv2D(64, (3,3), activation='relu')\n",
        "HIDDEN_LAYER_TYPE_4 = layers.MaxPooling2D((2,2))\n",
        "HIDDEN_LAYER_TYPE_5 = layers.Dense(64, activation='relu')\n",
        "LAST_LAYER = layers.Dense(10, activation='softmax')\n",
        "\n",
        "model = models.Sequential([\n",
        "       FIRST_LAYER,\n",
        "       HIDDEN_LAYER_TYPE_1,\n",
        "       HIDDEN_LAYER_TYPE_2,\n",
        "       HIDDEN_LAYER_TYPE_3,\n",
        "       HIDDEN_LAYER_TYPE_4,\n",
        "       layers.Flatten(),\n",
        "       HIDDEN_LAYER_TYPE_5,\n",
        "       LAST_LAYER,\n",
        "])"
      ]
    },
    {
      "cell_type": "markdown",
      "metadata": {
        "id": "0_NmYPUNzpb3"
      },
      "source": [
        "You then need to define loss function. And you can then train your model. Once training is done you'll see a plot of training and validation accuracy. You'll know you have a reasonable model with a reasonable loss funciton if your final training accuracy ends up in the 70s (or possibly higher).\n",
        "\n",
        "*A hint: your model may want to learn different categories.*"
      ]
    },
    {
      "cell_type": "code",
      "execution_count": null,
      "metadata": {
        "id": "Dxq2JU7dVIEX"
      },
      "outputs": [],
      "source": [
        "LOSS = #YOUR CODE HERE#\n",
        "NUM_EPOCHS = 50 #You can change this value if you like to experiment with it to get better accuracy\n",
        "\n",
        "# Compile the model\n",
        "model.compile(optimizer='sgd',\n",
        "              loss=LOSS,\n",
        "              metrics=['accuracy'])\n",
        "\n",
        "# Fit the model\n",
        "history = model.fit(train_images, train_labels, epochs=NUM_EPOCHS,\n",
        "                    validation_data=(test_images, test_labels))\n",
        "\n",
        "# summarize history for accuracy\n",
        "plt.plot(history.history['accuracy'])\n",
        "plt.plot(history.history['val_accuracy'])\n",
        "plt.title('model accuracy')\n",
        "plt.ylabel('accuracy')\n",
        "plt.xlabel('epoch')\n",
        "plt.legend(['train', 'test'], loc='upper left')\n",
        "plt.xlim([0,NUM_EPOCHS])\n",
        "plt.ylim([0.4,1.0])\n",
        "plt.show()"
      ]
    },
    {
      "cell_type": "markdown",
      "metadata": {
        "id": "AlBgrJG1zpb3"
      },
      "source": [
        "Finally, pick a better optimizer. And re-train your model. You'll know you have a reasonable model with a reasonable loss funciton and optimizer if your final training accuracy ends up in the 80s (or possibly higher).\n",
        "\n",
        "*A hint: your model may want to learn adaptively.*"
      ]
    },
    {
      "cell_type": "code",
      "execution_count": 7,
      "metadata": {
        "id": "oKCWvQdhzpb3",
        "outputId": "0446ea4a-5673-4de3-fd72-0b0a8472cb7b",
        "colab": {
          "base_uri": "https://localhost:8080/",
          "height": 1000
        }
      },
      "outputs": [
        {
          "output_type": "stream",
          "name": "stdout",
          "text": [
            "Epoch 1/50\n",
            "1563/1563 [==============================] - 14s 6ms/step - loss: 1.9800 - accuracy: 0.2834 - val_loss: 1.7193 - val_accuracy: 0.3857\n",
            "Epoch 2/50\n",
            "1563/1563 [==============================] - 9s 6ms/step - loss: 1.5685 - accuracy: 0.4375 - val_loss: 1.4849 - val_accuracy: 0.4688\n",
            "Epoch 3/50\n",
            "1563/1563 [==============================] - 9s 6ms/step - loss: 1.3794 - accuracy: 0.5094 - val_loss: 1.3352 - val_accuracy: 0.5212\n",
            "Epoch 4/50\n",
            "1563/1563 [==============================] - 9s 6ms/step - loss: 1.2601 - accuracy: 0.5537 - val_loss: 1.6738 - val_accuracy: 0.4390\n",
            "Epoch 5/50\n",
            "1563/1563 [==============================] - 9s 6ms/step - loss: 1.1570 - accuracy: 0.5942 - val_loss: 1.1998 - val_accuracy: 0.5836\n",
            "Epoch 6/50\n",
            "1563/1563 [==============================] - 8s 5ms/step - loss: 1.0655 - accuracy: 0.6284 - val_loss: 1.1005 - val_accuracy: 0.6167\n",
            "Epoch 7/50\n",
            "1563/1563 [==============================] - 8s 5ms/step - loss: 0.9941 - accuracy: 0.6556 - val_loss: 1.0830 - val_accuracy: 0.6207\n",
            "Epoch 8/50\n",
            "1563/1563 [==============================] - 9s 6ms/step - loss: 0.9334 - accuracy: 0.6756 - val_loss: 1.0006 - val_accuracy: 0.6550\n",
            "Epoch 9/50\n",
            "1563/1563 [==============================] - 8s 5ms/step - loss: 0.8838 - accuracy: 0.6928 - val_loss: 0.9613 - val_accuracy: 0.6665\n",
            "Epoch 10/50\n",
            "1563/1563 [==============================] - 8s 5ms/step - loss: 0.8376 - accuracy: 0.7099 - val_loss: 1.0206 - val_accuracy: 0.6527\n",
            "Epoch 11/50\n",
            "1563/1563 [==============================] - 9s 6ms/step - loss: 0.7966 - accuracy: 0.7229 - val_loss: 0.9447 - val_accuracy: 0.6837\n",
            "Epoch 12/50\n",
            "1563/1563 [==============================] - 9s 6ms/step - loss: 0.7579 - accuracy: 0.7390 - val_loss: 0.9378 - val_accuracy: 0.6828\n",
            "Epoch 13/50\n",
            "1563/1563 [==============================] - 9s 6ms/step - loss: 0.7206 - accuracy: 0.7522 - val_loss: 0.9535 - val_accuracy: 0.6785\n",
            "Epoch 14/50\n",
            "1563/1563 [==============================] - 9s 6ms/step - loss: 0.6836 - accuracy: 0.7623 - val_loss: 0.8891 - val_accuracy: 0.7016\n",
            "Epoch 15/50\n",
            "1563/1563 [==============================] - 8s 5ms/step - loss: 0.6470 - accuracy: 0.7763 - val_loss: 0.8995 - val_accuracy: 0.6980\n",
            "Epoch 16/50\n",
            "1563/1563 [==============================] - 9s 6ms/step - loss: 0.6151 - accuracy: 0.7876 - val_loss: 0.9225 - val_accuracy: 0.6984\n",
            "Epoch 17/50\n",
            "1563/1563 [==============================] - 9s 6ms/step - loss: 0.5814 - accuracy: 0.7981 - val_loss: 0.9649 - val_accuracy: 0.6933\n",
            "Epoch 18/50\n",
            "1563/1563 [==============================] - 9s 6ms/step - loss: 0.5495 - accuracy: 0.8097 - val_loss: 0.9134 - val_accuracy: 0.7088\n",
            "Epoch 19/50\n",
            "1563/1563 [==============================] - 9s 6ms/step - loss: 0.5186 - accuracy: 0.8211 - val_loss: 1.0242 - val_accuracy: 0.6829\n",
            "Epoch 20/50\n",
            "1563/1563 [==============================] - 8s 5ms/step - loss: 0.4876 - accuracy: 0.8308 - val_loss: 1.0080 - val_accuracy: 0.6887\n",
            "Epoch 21/50\n",
            "1563/1563 [==============================] - 8s 5ms/step - loss: 0.4548 - accuracy: 0.8413 - val_loss: 1.0923 - val_accuracy: 0.6741\n",
            "Epoch 22/50\n",
            "1563/1563 [==============================] - 9s 6ms/step - loss: 0.4264 - accuracy: 0.8501 - val_loss: 1.0093 - val_accuracy: 0.7010\n",
            "Epoch 23/50\n",
            "1563/1563 [==============================] - 9s 6ms/step - loss: 0.3984 - accuracy: 0.8620 - val_loss: 1.0918 - val_accuracy: 0.6891\n",
            "Epoch 24/50\n",
            "1563/1563 [==============================] - 8s 5ms/step - loss: 0.3683 - accuracy: 0.8714 - val_loss: 1.1738 - val_accuracy: 0.6861\n",
            "Epoch 25/50\n",
            "1563/1563 [==============================] - 9s 6ms/step - loss: 0.3444 - accuracy: 0.8805 - val_loss: 1.1375 - val_accuracy: 0.6996\n",
            "Epoch 26/50\n",
            "1563/1563 [==============================] - 9s 6ms/step - loss: 0.3145 - accuracy: 0.8897 - val_loss: 1.1918 - val_accuracy: 0.6981\n",
            "Epoch 27/50\n",
            "1563/1563 [==============================] - 9s 6ms/step - loss: 0.2904 - accuracy: 0.8987 - val_loss: 1.2152 - val_accuracy: 0.6983\n",
            "Epoch 28/50\n",
            "1563/1563 [==============================] - 8s 5ms/step - loss: 0.2629 - accuracy: 0.9083 - val_loss: 1.2833 - val_accuracy: 0.7032\n",
            "Epoch 29/50\n",
            "1563/1563 [==============================] - 9s 5ms/step - loss: 0.2431 - accuracy: 0.9157 - val_loss: 1.4134 - val_accuracy: 0.6894\n",
            "Epoch 30/50\n",
            "1563/1563 [==============================] - 8s 5ms/step - loss: 0.2198 - accuracy: 0.9232 - val_loss: 1.3696 - val_accuracy: 0.6961\n",
            "Epoch 31/50\n",
            "1563/1563 [==============================] - 9s 6ms/step - loss: 0.1991 - accuracy: 0.9306 - val_loss: 1.4146 - val_accuracy: 0.6957\n",
            "Epoch 32/50\n",
            "1563/1563 [==============================] - 8s 5ms/step - loss: 0.1809 - accuracy: 0.9371 - val_loss: 1.4942 - val_accuracy: 0.6906\n",
            "Epoch 33/50\n",
            "1563/1563 [==============================] - 8s 5ms/step - loss: 0.1558 - accuracy: 0.9470 - val_loss: 1.5951 - val_accuracy: 0.6859\n",
            "Epoch 34/50\n",
            "1563/1563 [==============================] - 9s 6ms/step - loss: 0.1416 - accuracy: 0.9502 - val_loss: 1.6409 - val_accuracy: 0.6973\n",
            "Epoch 35/50\n",
            "1563/1563 [==============================] - 8s 5ms/step - loss: 0.1296 - accuracy: 0.9554 - val_loss: 1.7957 - val_accuracy: 0.6788\n",
            "Epoch 36/50\n",
            "1563/1563 [==============================] - 9s 6ms/step - loss: 0.1144 - accuracy: 0.9602 - val_loss: 1.7758 - val_accuracy: 0.6893\n",
            "Epoch 37/50\n",
            "1563/1563 [==============================] - 9s 6ms/step - loss: 0.1031 - accuracy: 0.9651 - val_loss: 1.8549 - val_accuracy: 0.6878\n",
            "Epoch 38/50\n",
            "1563/1563 [==============================] - 8s 5ms/step - loss: 0.0961 - accuracy: 0.9669 - val_loss: 1.8802 - val_accuracy: 0.6922\n",
            "Epoch 39/50\n",
            "1563/1563 [==============================] - 8s 5ms/step - loss: 0.0866 - accuracy: 0.9701 - val_loss: 1.9332 - val_accuracy: 0.6921\n",
            "Epoch 40/50\n",
            "1563/1563 [==============================] - 9s 6ms/step - loss: 0.0757 - accuracy: 0.9747 - val_loss: 2.3243 - val_accuracy: 0.6626\n",
            "Epoch 41/50\n",
            "1563/1563 [==============================] - 7s 5ms/step - loss: 0.0669 - accuracy: 0.9780 - val_loss: 2.1544 - val_accuracy: 0.6844\n",
            "Epoch 42/50\n",
            "1563/1563 [==============================] - 8s 5ms/step - loss: 0.0593 - accuracy: 0.9802 - val_loss: 2.2042 - val_accuracy: 0.6861\n",
            "Epoch 43/50\n",
            "1563/1563 [==============================] - 8s 5ms/step - loss: 0.0663 - accuracy: 0.9774 - val_loss: 2.1501 - val_accuracy: 0.6913\n",
            "Epoch 44/50\n",
            "1563/1563 [==============================] - 8s 5ms/step - loss: 0.0530 - accuracy: 0.9826 - val_loss: 2.2597 - val_accuracy: 0.6896\n",
            "Epoch 45/50\n",
            "1563/1563 [==============================] - 9s 6ms/step - loss: 0.0689 - accuracy: 0.9759 - val_loss: 2.3826 - val_accuracy: 0.6820\n",
            "Epoch 46/50\n",
            "1563/1563 [==============================] - 8s 5ms/step - loss: 0.0532 - accuracy: 0.9829 - val_loss: 2.2707 - val_accuracy: 0.6925\n",
            "Epoch 47/50\n",
            "1563/1563 [==============================] - 8s 5ms/step - loss: 0.0387 - accuracy: 0.9881 - val_loss: 2.4147 - val_accuracy: 0.6923\n",
            "Epoch 48/50\n",
            "1563/1563 [==============================] - 8s 5ms/step - loss: 0.0531 - accuracy: 0.9825 - val_loss: 2.3868 - val_accuracy: 0.6903\n",
            "Epoch 49/50\n",
            "1563/1563 [==============================] - 8s 5ms/step - loss: 0.0580 - accuracy: 0.9803 - val_loss: 2.5236 - val_accuracy: 0.6764\n",
            "Epoch 50/50\n",
            "1563/1563 [==============================] - 8s 5ms/step - loss: 0.0385 - accuracy: 0.9869 - val_loss: 2.6177 - val_accuracy: 0.6877\n"
          ]
        },
        {
          "output_type": "display_data",
          "data": {
            "text/plain": [
              "<Figure size 640x480 with 1 Axes>"
            ],
            "image/png": "[encoded data removed]"
          },
          "metadata": {}
        }
      ],
      "source": [
        "LOSS = 'sparse_categorical_crossentropy'\n",
        "NUM_EPOCHS = 50\n",
        "\n",
        "# Compile the model\n",
        "model.compile(optimizer='sgd',\n",
        "              loss=LOSS,\n",
        "              metrics=['accuracy'])\n",
        "\n",
        "# Fit the model\n",
        "history = model.fit(train_images, train_labels, epochs=NUM_EPOCHS,\n",
        "                    validation_data=(test_images, test_labels))\n",
        "\n",
        "# summarize history for accuracy\n",
        "plt.plot(history.history['accuracy'])\n",
        "plt.plot(history.history['val_accuracy'])\n",
        "plt.title('model accuracy')\n",
        "plt.ylabel('accuracy')\n",
        "plt.xlabel('epoch')\n",
        "plt.legend(['train', 'test'], loc='upper left')\n",
        "plt.xlim([0,NUM_EPOCHS])\n",
        "plt.ylim([0.4,1.0])\n",
        "plt.show()"
      ]
    }
  ],
  "metadata": {
    "accelerator": "GPU",
    "colab": {
      "name": "2-3-9-Question.ipynb",
      "provenance": []
    },
    "kernelspec": {
      "display_name": "Python 3",
      "language": "python",
      "name": "python3"
    },
    "language_info": {
      "codemirror_mode": {
        "name": "ipython",
        "version": 3
      },
      "file_extension": ".py",
      "mimetype": "text/x-python",
      "name": "python",
      "nbconvert_exporter": "python",
      "pygments_lexer": "ipython3",
      "version": "3.6.9"
    }
  },
  "nbformat": 4,
  "nbformat_minor": 0
}